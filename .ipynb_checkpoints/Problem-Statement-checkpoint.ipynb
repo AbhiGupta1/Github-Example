{
 "cells": [
  {
   "cell_type": "markdown",
   "metadata": {},
   "source": [
    "# The Battle of Neighborhoods"
   ]
  },
  {
   "cell_type": "markdown",
   "metadata": {},
   "source": [
    "## Business Statement"
   ]
  },
  {
   "cell_type": "markdown",
   "metadata": {},
   "source": [
    "We would like to open a **Coffee shop in Seoul, South Korea**. The challenge is to find a suitable location for opening a new coffee shop which will **bring a lot of customers** and **avoid strong competitors like Starbucks**.\n",
    "\n",
    "My target audience will be anyone who want to open a store like coffee shop and they will care about the location they will choose to open since it will affects the income."
   ]
  },
  {
   "cell_type": "markdown",
   "metadata": {},
   "source": [
    "# Data gathering"
   ]
  },
  {
   "cell_type": "markdown",
   "metadata": {},
   "source": [
    "**For simplicity, only Foursquare data will be used to explore and locate our new coffee shop where more venues like parks, churches, temples, and fewer competitors like Starbucks that are present nearby.** \n",
    "\n",
    "For example, I will use the name and categories information to confirm whether it is a venue or competitor, and use latitude and longitude information to locate them. "
   ]
  },
  {
   "cell_type": "code",
   "execution_count": null,
   "metadata": {},
   "outputs": [],
   "source": []
  }
 ],
 "metadata": {
  "kernelspec": {
   "display_name": "Python 3",
   "language": "python",
   "name": "python3"
  },
  "language_info": {
   "codemirror_mode": {
    "name": "ipython",
    "version": 3
   },
   "file_extension": ".py",
   "mimetype": "text/x-python",
   "name": "python",
   "nbconvert_exporter": "python",
   "pygments_lexer": "ipython3",
   "version": "3.7.6"
  }
 },
 "nbformat": 4,
 "nbformat_minor": 4
}
